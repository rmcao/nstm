{
 "cells": [
  {
   "cell_type": "markdown",
   "id": "6c3dc838",
   "metadata": {},
   "source": [
    "# Neural space-time model example on structured illumination microscopy (SIM) data\n",
    "Jupyter lab demo for \"Neural space-time model for dynamic multi-shot imaging\" by Ruiming Cao, et al. (2024)"
   ]
  },
  {
   "cell_type": "code",
   "execution_count": null,
   "id": "68dbf739-43c1-42e5-a490-81747188948b",
   "metadata": {},
   "outputs": [],
   "source": [
    "%load_ext autoreload\n",
    "%autoreload 2\n",
    "%matplotlib widget\n",
    "import os\n",
    "import numpy as np\n",
    "import jax\n",
    "import jax.numpy as jnp\n",
    "from flax import linen as nn\n",
    "import matplotlib.pyplot as plt\n",
    "\n",
    "from ipywidgets import interact, IntSlider\n",
    "\n",
    "os.environ[\"CUDA_DEVICE_ORDER\"]=\"PCI_BUS_ID\"\n",
    "os.environ[\"CUDA_VISIBLE_DEVICES\"]=\"0\"\n",
    "\n",
    "import calcil as cc\n",
    "\n",
    "from nstm import sim3d_utils\n",
    "from nstm import sim3d_flow\n",
    "from nstm import spacetime\n",
    "from nstm import utils"
   ]
  },
  {
   "cell_type": "markdown",
   "id": "3e1e5097-48aa-4f3b-8101-9873a6c191e3",
   "metadata": {},
   "source": [
    "## Load data"
   ]
  },
  {
   "cell_type": "code",
   "execution_count": null,
   "id": "40a2a698-7d43-4074-8922-5f69bde298a8",
   "metadata": {},
   "outputs": [],
   "source": [
    "with np.load(os.path.join('./sim_data_beads.npz')) as d:\n",
    "    timestamp_phase = d['timestamp_phase']\n",
    "    img = d['img']\n",
    "    OTF = d['OTF']"
   ]
  },
  {
   "cell_type": "markdown",
   "id": "c6ba731e-82f4-4d1e-9030-e02d99e1a59c",
   "metadata": {},
   "source": [
    "### Visualize raw images"
   ]
  },
  {
   "cell_type": "code",
   "execution_count": null,
   "id": "832d7013",
   "metadata": {},
   "outputs": [],
   "source": [
    "f, ax = plt.subplots(1,1,figsize=(10, 4))\n",
    "frame = []\n",
    "\n",
    "def init():\n",
    "    frame.append(ax.imshow(img[0, 0, 0], cmap='gray'))\n",
    "    ax.axis('off')\n",
    "    f.tight_layout()\n",
    "\n",
    "init()\n",
    "def updateFrame(ori, phase):\n",
    "    frame[0].set_data(img[ori, phase, 0])\n",
    "\n",
    "interact(updateFrame, ori=IntSlider(min=0, max=2, step=1, value=0),\n",
    "         phase=IntSlider(min=0, max=4, step=1, value=0))"
   ]
  },
  {
   "cell_type": "markdown",
   "id": "607eb22a",
   "metadata": {},
   "source": [
    "## Define system parameters"
   ]
  },
  {
   "cell_type": "code",
   "execution_count": null,
   "id": "2b376c67",
   "metadata": {},
   "outputs": [],
   "source": [
    "zoomfact = 1.6\n",
    "dim_zyx = (1, int(200 * zoomfact), int(200 * zoomfact))\n",
    "dim_otf_zx = (101, 256)\n",
    "padding_zyx = (0, 0, 0)\n",
    "wavelength = 0.515\n",
    "wavelength_exc = 0.488\n",
    "RI_medium = 1.33\n",
    "ps = 0.040625\n",
    "dz = 0.15\n",
    "dz_otf = 0.1\n",
    "na = 1.28\n",
    "optical_param = utils.SystemParameters3D(dim_zyx, wavelength, wavelength_exc, na,\n",
    "                                         ps / zoomfact, dz, RI_medium, padding_zyx)\n",
    "otf_param = utils.SystemParameters3D((dim_otf_zx[0], dim_otf_zx[1], dim_otf_zx[1]),\n",
    "                                     wavelength, wavelength_exc, na, ps,\n",
    "                                     dz_otf, RI_medium, (0, 0, 0))\n",
    "line_spacing = [0.419490, 0.419520, 0.419330]\n",
    "k0angles = [1.782, 2.897, -2.379]"
   ]
  },
  {
   "cell_type": "markdown",
   "id": "318d6d62",
   "metadata": {},
   "source": [
    "## Set up OTF"
   ]
  },
  {
   "cell_type": "code",
   "execution_count": null,
   "id": "4ad92940",
   "metadata": {},
   "outputs": [],
   "source": [
    "bandplus_img = np.array([sim3d_utils.separate_bands(img_, out_positive_bands=True) for img_ in img])\n",
    "\n",
    "sim_param, phase, amp = sim3d_utils.get_otf(bandplus_img[:, :, :optical_param.dim_zyx[0]], OTF, optical_param,\n",
    "                                            otf_param, ndirs=3, nphases=5, k0angles=k0angles, line_spacing=line_spacing,\n",
    "                                            crop_boundary_zyx=(2 if optical_param.dim_zyx[0] > 10 else 0, 20, 20),\n",
    "                                            noisy=True, notch=False)\n",
    "otf_valid_region, otf_valid_region_rfft = sim3d_utils.otf_support_mask(optical_param, otf_param, sim_param, OTF[0])"
   ]
  },
  {
   "cell_type": "markdown",
   "id": "13a837bc-93a8-4814-8232-7bbf8f7644e4",
   "metadata": {},
   "source": [
    "## Reconstruction via neural space-time model"
   ]
  },
  {
   "cell_type": "markdown",
   "id": "4d0bd539-9f49-4bc4-9e23-530bd05a3133",
   "metadata": {},
   "source": [
    "### Define NSTM parameters"
   ]
  },
  {
   "cell_type": "code",
   "execution_count": null,
   "id": "e0cbcceb-667d-4a5c-822c-a1c78f6c1f59",
   "metadata": {},
   "outputs": [],
   "source": [
    "object_hash_base = np.array([1, 25, 25])\n",
    "object_hash_fine = np.array([1, 250, 250])\n",
    "motion_hash_base = np.array([1, 1, 1, 3])\n",
    "motion_hash_fine = np.array([1, 1, 1, 15])\n",
    "\n",
    "hash_param = spacetime.HashParameters(\n",
    "    bounding_box=(np.array([0, -optical_param.dim_zyx[1]*1./2, -optical_param.dim_zyx[2]*1./2]),\n",
    "                  np.array([optical_param.dim_zyx[0] * 2, optical_param.dim_zyx[1] * (1 + 1./2), optical_param.dim_zyx[2] * (1 + 1./2)])),\n",
    "    n_levels=8, n_features_per_level=2, log2_hashmap_size=16, base_resolution=object_hash_base*2, finest_resolution=object_hash_fine*2)\n",
    "hash_param_motion_spacetime = spacetime.HashParameters(\n",
    "    bounding_box=(np.array([0, 0, 0, -1]), np.array([optical_param.dim_zyx[0] * 2, optical_param.dim_zyx[1], optical_param.dim_zyx[2], 1])),\n",
    "    n_levels=8, n_features_per_level=2, log2_hashmap_size=16, base_resolution=motion_hash_base, finest_resolution=motion_hash_fine)\n",
    "\n",
    "object_mlp_param = spacetime.MLPParameters(net_depth=2, net_width=128, net_activation=nn.gelu)\n",
    "motion_mlp_param = spacetime.MLPParameters(net_depth=2, net_width=32, net_activation=nn.elu)\n",
    "\n",
    "space_time_param = spacetime.SpaceTimeParameters(motion_mlp_param=motion_mlp_param,\n",
    "                                                    object_mlp_param=object_mlp_param,\n",
    "                                                    motion_embedding='hash_combined',\n",
    "                                                    motion_embedding_param=hash_param_motion_spacetime,\n",
    "                                                    object_embedding='hash', object_embedding_param=hash_param,\n",
    "                                                    out_activation=lambda x: x)\n"
   ]
  },
  {
   "cell_type": "markdown",
   "id": "b12befcd-6681-4f9b-8b45-e4c9af6df11c",
   "metadata": {},
   "source": [
    "### Data loader"
   ]
  },
  {
   "cell_type": "code",
   "execution_count": null,
   "id": "67f3ef67-ee00-4c7d-9e42-ee77140f9dc8",
   "metadata": {},
   "outputs": [],
   "source": [
    "ind_k0angle = np.tile(np.arange(3)[:, np.newaxis], (1, 5))\n",
    "ind_phases = np.tile(np.arange(5)[np.newaxis, :], (3, 1))\n",
    "z_offset = np.ones((3, 5)) * (optical_param.dim_zyx[0] // 2 + optical_param.padding_zyx[0])\n",
    "zyx_offset = np.stack([z_offset, np.zeros_like(z_offset), np.zeros_like(z_offset)], axis=-1)\n",
    "\n",
    "data_loader = cc.data_utils.loader_from_numpy(\n",
    "    {'img': img.reshape((-1,) + optical_param.dim_zyx),\n",
    "      't': timestamp_phase.reshape(-1),\n",
    "      'ind_phase': ind_phases.reshape((-1)),\n",
    "      'ind_k0angle': ind_k0angle.reshape(-1),\n",
    "      'zyx_offset': zyx_offset.reshape((-1, 3))},\n",
    "    prefix_dim=(5,), seed=85471)\n",
    "\n",
    "sample_epoch_input = next(data_loader)\n",
    "num_batches_per_epoch = len(sample_epoch_input)\n",
    "sample_input_dict = sample_epoch_input[0]"
   ]
  },
  {
   "cell_type": "markdown",
   "id": "4d138606-a6b1-43c9-969b-1e1f61b3f8f4",
   "metadata": {},
   "source": [
    "### Initialize NSTM model"
   ]
  },
  {
   "cell_type": "code",
   "execution_count": null,
   "id": "2f425ea4-cd2f-427c-93d5-1a229ede04c1",
   "metadata": {},
   "outputs": [],
   "source": [
    "num_epoch = 2000\n",
    "annealed_rate = 0.8\n",
    "\n",
    "model = sim3d_flow.SIM3DSpacetime(\n",
    "    sim_param, space_time_param, optical_param,\n",
    "    annealed_epoch=num_epoch * annealed_rate)\n",
    "\n",
    "rng = jax.random.PRNGKey(98321)\n",
    "variables = model.init(rng, input_dict=sample_input_dict)"
   ]
  },
  {
   "cell_type": "markdown",
   "id": "2ad4ea9f-6e9a-4f1c-adcc-d301c4165575",
   "metadata": {},
   "source": [
    "### Define loss function"
   ]
  },
  {
   "cell_type": "code",
   "execution_count": null,
   "id": "9198a573-5da7-46b3-a6b7-83b5f6e013f8",
   "metadata": {},
   "outputs": [],
   "source": [
    "l2_loss = cc.loss.Loss(sim3d_flow.gen_loss_l2_stack(margin=2), 'l2')\n",
    "total_loss = l2_loss"
   ]
  },
  {
   "cell_type": "markdown",
   "id": "2960ee01-211a-465f-acd9-38b98e9897b9",
   "metadata": {},
   "source": [
    "### Run reconstruction"
   ]
  },
  {
   "cell_type": "code",
   "execution_count": null,
   "id": "3f9aa03a-5185-4a03-997b-b19b462d61b3",
   "metadata": {
    "scrolled": true,
    "tags": []
   },
   "outputs": [],
   "source": [
    "save_path = './checkpoint/SIM_beads/'\n",
    "\n",
    "recon_param = cc.reconstruction.ReconIterParameters(save_dir=save_path, n_epoch=num_epoch,\n",
    "                                                    keep_checkpoints=1, \n",
    "                                                    checkpoint_every=num_epoch,\n",
    "                                                    output_every=100, log_every=100)\n",
    "no_update_params = cc.reconstruction.ReconVarParameters(lr=0)\n",
    "object_mlp_params = cc.reconstruction.ReconVarParameters(\n",
    "    lr=1e-3, opt='adam', opt_kwargs={'b1': 0.9, 'b2': 0.99, 'eps': 1e-15}, schedule='exponential',\n",
    "    schedule_kwargs={'transition_steps': num_epoch * num_batches_per_epoch, 'decay_rate': 0.1, 'transition_begin': 0}, update_every=1)\n",
    "motion_mlp_params = cc.reconstruction.ReconVarParameters(\n",
    "    lr=1e-5, opt='adam', opt_kwargs={'b1': 0.9, 'b2': 0.99, 'eps': 1e-15}, schedule='exponential',\n",
    "    schedule_kwargs={'transition_steps': num_epoch * num_batches_per_epoch, 'decay_rate': 0.1, 'transition_begin': 0}, update_every=1)\n",
    "\n",
    "var_params = {'params': {'spacetime': {'motion_mlp': motion_mlp_params, 'object_mlp': object_mlp_params,\n",
    "                                       'motion_embedding': motion_mlp_params, 'object_embedding': object_mlp_params},\n",
    "                         'fluo_forward': no_update_params}}\n",
    "\n",
    "recon_variables, recon = cc.reconstruction.reconstruct_multivars_sgd(model.apply, variables, var_params,\n",
    "                                                                     data_loader, total_loss, recon_param,\n",
    "                                                                     None, None)"
   ]
  },
  {
   "cell_type": "code",
   "execution_count": null,
   "id": "e8874ffb",
   "metadata": {},
   "outputs": [],
   "source": [
    "recon_t = np.array([model.apply(\n",
    "    recon_variables, np.array([timestamp_phase.reshape(-1)[i]]),\n",
    "    method=lambda module, t: module.spacetime(\n",
    "        t, np.array([[z_offset[0, 0], 0, 0]]))[0, ..., 0]) for i in range(15)])\n",
    "recon_t = (\n",
    "    np.fft.ifftn(otf_valid_region[np.newaxis, :, :, :] * np.fft.fftn(recon_t, axes=(-3, -2, -1)), axes=(-3, -2, -1)).real).astype(\n",
    "    np.float32)"
   ]
  },
  {
   "cell_type": "markdown",
   "id": "e086c5ac-22bd-486b-a228-c4a3fc58e528",
   "metadata": {},
   "source": [
    "### Visualize the reconstruction"
   ]
  },
  {
   "cell_type": "code",
   "execution_count": null,
   "id": "2bf73c59",
   "metadata": {},
   "outputs": [],
   "source": [
    "f, ax = plt.subplots(figsize=(6, 6))\n",
    "frame = ax.imshow(recon_t[0, 0], clim=(np.percentile(recon_t, 1), np.percentile(recon_t, 99.9)), cmap='gray')\n",
    "ax.axis('off')\n",
    "f.tight_layout()\n",
    "\n",
    "def update(t):\n",
    "    frame.set_data(recon_t[t, 0])\n",
    "\n",
    "interact(update, t=IntSlider(min=0, max=14, step=1, value=0))"
   ]
  },
  {
   "cell_type": "markdown",
   "id": "5a30b3e9",
   "metadata": {},
   "source": [
    "### Turning off the motion update\n",
    "To compare with the static reconstruction, you may turn off the motion update by zeroing out the motion network's learning rate in 'motion_mlp_params' and all timepoint values in 'data_loader'."
   ]
  },
  {
   "cell_type": "markdown",
   "id": "463f4c2a",
   "metadata": {},
   "source": [
    "## Reference"
   ]
  },
  {
   "cell_type": "raw",
   "id": "f3e843d8",
   "metadata": {},
   "source": [
    "@article{cao2024neural,\n",
    "  title={Neural space-time model for dynamic scene recovery in multi-shot computational imaging systems},\n",
    "  author={Cao, Ruiming and Divekar, Nikita and Nu{\\~n}ez, James and Upadhyayula, Srigokul and Waller, Laura},\n",
    "  journal={bioRxiv},\n",
    "  pages={2024--01},\n",
    "  year={2024},\n",
    "  publisher={Cold Spring Harbor Laboratory}\n",
    "}"
   ]
  }
 ],
 "metadata": {
  "kernelspec": {
   "display_name": "Python 3",
   "language": "python",
   "name": "python3"
  },
  "language_info": {
   "codemirror_mode": {
    "name": "ipython",
    "version": 3
   },
   "file_extension": ".py",
   "mimetype": "text/x-python",
   "name": "python",
   "nbconvert_exporter": "python",
   "pygments_lexer": "ipython3",
   "version": "3.9.19"
  }
 },
 "nbformat": 4,
 "nbformat_minor": 5
}
