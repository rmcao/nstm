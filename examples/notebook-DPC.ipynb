{
 "cells": [
  {
   "cell_type": "markdown",
   "id": "6c3dc838",
   "metadata": {},
   "source": [
    "# Neural space-time model example on differential phase contrast microscopy (DPC) data\n",
    "Jupyter lab demo for \"Neural space-time model for dynamic multi-shot imaging\" by Ruiming Cao, et al. (2024)"
   ]
  },
  {
   "cell_type": "code",
   "execution_count": null,
   "id": "68dbf739-43c1-42e5-a490-81747188948b",
   "metadata": {},
   "outputs": [],
   "source": [
    "%load_ext autoreload\n",
    "%autoreload 2\n",
    "%matplotlib widget\n",
    "import os\n",
    "import numpy as np\n",
    "import jax\n",
    "import jax.numpy as jnp\n",
    "from flax import linen as nn\n",
    "import matplotlib.pyplot as plt\n",
    "\n",
    "from ipywidgets import interact, IntSlider\n",
    "\n",
    "os.environ[\"CUDA_DEVICE_ORDER\"]=\"PCI_BUS_ID\"\n",
    "os.environ[\"CUDA_VISIBLE_DEVICES\"]=\"2\"\n",
    "\n",
    "import calcil as cc\n",
    "\n",
    "from nstm import dpc_utils\n",
    "from nstm import dpc_flow\n",
    "from nstm import spacetime\n",
    "from nstm import utils\n",
    "from nstm.hash_encoding import HashParameters"
   ]
  },
  {
   "cell_type": "markdown",
   "id": "3e1e5097-48aa-4f3b-8101-9873a6c191e3",
   "metadata": {},
   "source": [
    "## Load data"
   ]
  },
  {
   "cell_type": "code",
   "execution_count": null,
   "id": "40a2a698-7d43-4074-8922-5f69bde298a8",
   "metadata": {},
   "outputs": [],
   "source": [
    "data_path = './dpc_data.npz'\n",
    "with np.load(data_path) as d:\n",
    "    img = d['img']\n",
    "    s = d['s']\n",
    "num_frames = 4\n",
    "wavelength = 0.525\n",
    "na = 0.25\n",
    "pixel_size = 0.454\n",
    "\n",
    "dim_yx = (320, 1000)\n",
    "extent = [0, pixel_size * dim_yx[1], pixel_size * dim_yx[0], 0]\n",
    "\n",
    "param = utils.SystemParameters(dim_yx, wavelength, na, pixel_size, RI_medium=1.0, padding_yx=(0,0))"
   ]
  },
  {
   "cell_type": "markdown",
   "id": "c6ba731e-82f4-4d1e-9030-e02d99e1a59c",
   "metadata": {},
   "source": [
    "## Visualize images"
   ]
  },
  {
   "cell_type": "code",
   "execution_count": null,
   "id": "efd5b6d0-70f3-4936-a233-20a439367125",
   "metadata": {},
   "outputs": [],
   "source": [
    "f, ax = plt.subplots(1,1,figsize=(10, 4))\n",
    "frame = []\n",
    "\n",
    "def init():\n",
    "    frame.append(ax.imshow(img[0], clim=(-1., 1.), cmap='gray'))\n",
    "    ax.axis('off')\n",
    "    f.tight_layout()\n",
    "\n",
    "init()\n",
    "def updateFrame(i):\n",
    "    frame[0].set_data(img[i])\n",
    "\n",
    "interact(updateFrame, i=IntSlider(min=0, max=3, step=1, value=0),)"
   ]
  },
  {
   "cell_type": "markdown",
   "id": "c2dd6cfe-a0e9-4ade-b6be-39ad7ad0c2ed",
   "metadata": {},
   "source": [
    "## DPC transfer function"
   ]
  },
  {
   "cell_type": "code",
   "execution_count": null,
   "id": "5a5d4159-d5d9-4684-b098-e61286e4ba8c",
   "metadata": {},
   "outputs": [],
   "source": [
    "pupil = cc.physics.wave_optics.genPupil(param.dim_yx, param.pixel_size, NA=param.na, wavelength=param.wavelength)\n",
    "Hu, Hp = dpc_utils.gen_transfer_func(list_source=s, pupil=pupil, wavelength=param.wavelength, shifted_out=False)\n",
    "\n",
    "f, axes = plt.subplots(2, s.shape[0], figsize=(12, 6))\n",
    "for i in range(s.shape[0]):\n",
    "    axes[0, i].imshow(np.fft.fftshift(Hu[i].real), extent=(0,1,0,1))\n",
    "    axes[1, i].imshow(np.fft.fftshift(Hp[i].imag), extent=(0,1,0,1))"
   ]
  },
  {
   "cell_type": "markdown",
   "id": "bf054822-88e0-46aa-9311-03f61855677a",
   "metadata": {},
   "source": [
    "## Baseline reconstruction"
   ]
  },
  {
   "cell_type": "code",
   "execution_count": null,
   "id": "d5e56693-f021-40ab-bb8d-d122389823ff",
   "metadata": {},
   "outputs": [],
   "source": [
    "abs_baseline, phase_baseline = dpc_utils.dpc_tikhonov_solver(img, Hu, Hp, 1e-4, 1e-4, param.wavelength)"
   ]
  },
  {
   "cell_type": "markdown",
   "id": "13a837bc-93a8-4814-8232-7bbf8f7644e4",
   "metadata": {},
   "source": [
    "## Reconstruction via neural space-time model"
   ]
  },
  {
   "cell_type": "markdown",
   "id": "4d0bd539-9f49-4bc4-9e23-530bd05a3133",
   "metadata": {},
   "source": [
    "### Define NSTM parameters"
   ]
  },
  {
   "cell_type": "code",
   "execution_count": null,
   "id": "e0cbcceb-667d-4a5c-822c-a1c78f6c1f59",
   "metadata": {},
   "outputs": [],
   "source": [
    "# model parameters\n",
    "object_fine_hash_ratio = 0.4\n",
    "object_base_hash_ratio = 0.05\n",
    "motion_hash_ratio = 0.03\n",
    "motion_hash_temporal = 2\n",
    "\n",
    "hash_param = HashParameters(bounding_box=(np.array([-param.dim_yx[0] * 0.5, -param.dim_yx[1] * 0.5]),\n",
    "                                          np.array([param.dim_yx[0] * 1.5, param.dim_yx[1] * 1.5])),\n",
    "                            n_levels=8, n_features_per_level=2, log2_hashmap_size=16,\n",
    "                            base_resolution=np.array([dim_yx[0]*object_base_hash_ratio*2, dim_yx[1]*object_base_hash_ratio*2]),\n",
    "                            finest_resolution=np.array([dim_yx[0]*object_fine_hash_ratio*2, dim_yx[1]*object_fine_hash_ratio*2]))\n",
    "hash_param_motion_spacetime = HashParameters(\n",
    "    bounding_box=(np.array([0, 0, -1]), np.array([param.dim_yx[0], param.dim_yx[1], 1])),\n",
    "    n_levels=8, n_features_per_level=2, log2_hashmap_size=16, base_resolution=np.array([1,1,1]),\n",
    "    finest_resolution=np.round(np.array([dim_yx[0]*object_fine_hash_ratio*motion_hash_ratio, dim_yx[1]*object_fine_hash_ratio*motion_hash_ratio, motion_hash_temporal])))\n",
    "\n",
    "object_mlp_param = spacetime.MLPParameters(net_depth=2, net_width=128,\n",
    "                                           net_activation=nn.gelu, skip_layer=4)\n",
    "motion_mlp_param = spacetime.MLPParameters(net_depth=2, net_width=32,\n",
    "                                           net_activation=nn.elu, skip_layer=6)\n",
    "\n",
    "spacetime_param = spacetime.SpaceTimeParameters(motion_mlp_param=motion_mlp_param,\n",
    "                                                 object_mlp_param=object_mlp_param,\n",
    "                                                 motion_embedding='hash_combined',\n",
    "                                                 motion_embedding_param=hash_param_motion_spacetime,\n",
    "                                                 object_embedding='hash', object_embedding_param=hash_param,\n",
    "                                                 out_activation=lambda x: x)"
   ]
  },
  {
   "cell_type": "markdown",
   "id": "b12befcd-6681-4f9b-8b45-e4c9af6df11c",
   "metadata": {},
   "source": [
    "### Data loader"
   ]
  },
  {
   "cell_type": "code",
   "execution_count": null,
   "id": "67f3ef67-ee00-4c7d-9e42-ee77140f9dc8",
   "metadata": {},
   "outputs": [],
   "source": [
    "batch_size = 4\n",
    "pat_indices = np.eye(4)\n",
    "time_norm = np.linspace(-1,1,4)\n",
    "data_loader = cc.data_utils.loader_from_numpy({'img': img, \n",
    "                                               't': time_norm.reshape((-1)),\n",
    "                                               'ind_pat': pat_indices}, prefix_dim=(batch_size,),\n",
    "                                              seed=85472, )\n",
    "sample_input_dict = next(data_loader)[0]\n",
    "num_steps_per_epoch = len(next(data_loader))"
   ]
  },
  {
   "cell_type": "markdown",
   "id": "4d138606-a6b1-43c9-969b-1e1f61b3f8f4",
   "metadata": {},
   "source": [
    "### initialize model"
   ]
  },
  {
   "cell_type": "code",
   "execution_count": null,
   "id": "2f425ea4-cd2f-427c-93d5-1a229ede04c1",
   "metadata": {},
   "outputs": [],
   "source": [
    "model = dpc_flow.DPCFlow(param, s, spacetime_param, annealed_epoch=4000)\n",
    "\n",
    "rng = jax.random.PRNGKey(0)\n",
    "variables = model.init(rng, input_dict=sample_input_dict)"
   ]
  },
  {
   "cell_type": "markdown",
   "id": "2ad4ea9f-6e9a-4f1c-adcc-d301c4165575",
   "metadata": {},
   "source": [
    "### Define loss function"
   ]
  },
  {
   "cell_type": "code",
   "execution_count": null,
   "id": "9198a573-5da7-46b3-a6b7-83b5f6e013f8",
   "metadata": {},
   "outputs": [],
   "source": [
    "l2 = cc.loss.Loss(dpc_flow.gen_loss_l2(margin=5), 'l2')\n",
    "reg_absorp = cc.loss.Loss(dpc_flow.gen_l2_reg_absorp(freq_space=False), 'reg_l2_absorp', has_intermediates=True)\n",
    "reg_phase = cc.loss.Loss(dpc_flow.gen_l2_reg_phase(freq_space=False), 'reg_l2_phase', has_intermediates=True)\n",
    "total_loss = l2  + reg_absorp * 1e-4 + reg_phase*1e-4"
   ]
  },
  {
   "cell_type": "markdown",
   "id": "2960ee01-211a-465f-acd9-38b98e9897b9",
   "metadata": {},
   "source": [
    "### Run reconstruction"
   ]
  },
  {
   "cell_type": "code",
   "execution_count": null,
   "id": "3f9aa03a-5185-4a03-997b-b19b462d61b3",
   "metadata": {
    "scrolled": true,
    "tags": []
   },
   "outputs": [],
   "source": [
    "save_path = './checkpoint/DPC_c_elegans/'\n",
    "\n",
    "recon_param = cc.reconstruction.ReconIterParameters(save_dir=save_path, n_epoch=5000,\n",
    "                                                    keep_checkpoints=1, \n",
    "                                                    checkpoint_every=5000,\n",
    "                                                    output_every=100, log_every=100)\n",
    "\n",
    "object_mlp_params = cc.reconstruction.ReconVarParameters(lr=1e-3, opt='adam', \n",
    "                                                  opt_kwargs={'b1': 0.9, 'b2': 0.99, 'eps': 1e-15},\n",
    "                                                  schedule='exponential',\n",
    "                                                  schedule_kwargs={'transition_steps': 5e3, 'decay_rate': 0.1, 'transition_begin': 0},\n",
    "                                                  update_every=1)\n",
    "motion_mlp_params = cc.reconstruction.ReconVarParameters(lr=1e-5, opt='adam',\n",
    "                                                     opt_kwargs={'b1': 0.9, 'b2': 0.99, 'eps': 1e-15},\n",
    "                                                     schedule='exponential',\n",
    "                                                     schedule_kwargs={'transition_steps': 5e3, 'decay_rate': 0.1, 'transition_begin': 0},\n",
    "                                                     update_every=1)\n",
    "\n",
    "var_params = {'params': {'spacetime': {'motion_mlp': motion_mlp_params, 'object_mlp': object_mlp_params,\n",
    "                                       'motion_embedding': motion_mlp_params, 'object_embedding': object_mlp_params},}}\n",
    "\n",
    "recon_variables, recon = cc.reconstruction.reconstruct_multivars_sgd(model.apply, variables, var_params,\n",
    "                                                                     data_loader, total_loss, recon_param,\n",
    "                                                                     None, None)\n",
    "\n",
    "recon_t = np.array([model.apply(recon_variables, np.array([t]), np.array([[0, 0]]),\n",
    "                                method=lambda module, a, b: module.spacetime(a, b))[0] for i, t in enumerate(time_norm.reshape((-1)))])\n"
   ]
  },
  {
   "cell_type": "markdown",
   "id": "e086c5ac-22bd-486b-a228-c4a3fc58e528",
   "metadata": {},
   "source": [
    "### Visualize the reconstruction"
   ]
  },
  {
   "cell_type": "code",
   "execution_count": null,
   "id": "3d81321a-e60c-45e0-a10d-c5820225cb2c",
   "metadata": {},
   "outputs": [],
   "source": [
    "f, axes = plt.subplots(2, 2, figsize=(10, 4), sharex=True, sharey=True)\n",
    "frames = []\n",
    "margin = 20\n",
    "\n",
    "clim_ = (np.percentile(recon_t[..., 0], 0.1), np.percentile(recon_t[..., 0], 99))\n",
    "clim_phase = (np.percentile(recon_t[..., 1], 70), np.percentile(recon_t[..., 1], 99.99))\n",
    "\n",
    "def init():\n",
    "    frames.append(axes[0, 0].imshow(recon_t[0,margin:-margin,margin:-margin,0], cmap='gray', clim=clim_, interpolation='None'))\n",
    "    frames.append(axes[1, 0].imshow(recon_t[0,margin:-margin,margin:-margin,1], cmap='gray', clim=clim_phase, interpolation='None'))\n",
    "    frames.append(axes[0, 1].imshow(abs_baseline[margin:-margin, margin:-margin], cmap='gray',clim=clim_, interpolation='None'))\n",
    "    frames.append(axes[1, 1].imshow(phase_baseline[margin:-margin, margin:-margin], cmap='gray', clim=clim_phase, interpolation='None'))\n",
    "    \n",
    "    axes[0,0].set_title('neural space-time model', fontsize=14)\n",
    "    axes[0,1].set_title('conventional reconstruction', fontsize=14)\n",
    "    axes[0,0].text(-0., 0.5, 'amplitude',\n",
    "        horizontalalignment='right',\n",
    "        verticalalignment='center',\n",
    "        rotation='vertical',\n",
    "        transform=axes[0,0].transAxes, fontsize=14)\n",
    "    axes[1,0].text(-0., 0.5, 'phase',\n",
    "        horizontalalignment='right',\n",
    "        verticalalignment='center',\n",
    "        rotation='vertical',\n",
    "        transform=axes[1,0].transAxes, fontsize=14)\n",
    "\n",
    "    axes[0,0].set_xlim([65, 765])\n",
    "    [[ax.axis('off') for ax in axe] for axe in axes]\n",
    "    f.tight_layout()\n",
    "    \n",
    "init()\n",
    "def updateFrame(t):\n",
    "    frames[0].set_data(recon_t[t,margin:-margin,margin:-margin,0])\n",
    "    frames[1].set_data(recon_t[t,margin:-margin,margin:-margin,1])\n",
    "\n",
    "interact(updateFrame, t=IntSlider(min=0, max=3, step=1, value=0))"
   ]
  },
  {
   "cell_type": "markdown",
   "id": "82d3161f",
   "metadata": {},
   "source": [
    "## Temporal interpolation"
   ]
  },
  {
   "cell_type": "code",
   "execution_count": null,
   "id": "c64a5b12-5295-40e8-8570-8293d1a60e37",
   "metadata": {},
   "outputs": [],
   "source": [
    "recon_t_dense = np.array([model.apply(recon_variables, np.array([t]), np.array([[0, 0]]),\n",
    "                                method=lambda module, a, b: module.spacetime(a, b))[0] for t in np.linspace(-1,1,100)])"
   ]
  },
  {
   "cell_type": "code",
   "execution_count": null,
   "id": "683828aa-5264-4de1-8f28-c2060ec8a3f2",
   "metadata": {},
   "outputs": [],
   "source": [
    "f, axes = plt.subplots(2, 2, figsize=(10, 4), sharex=True, sharey=True)\n",
    "frames, text = [], []\n",
    "margin = 20\n",
    "\n",
    "frame_number_interp = np.linspace(1, 4, 100)\n",
    "\n",
    "clim_ = (np.percentile(recon_t[..., 0], 0.1), np.percentile(recon_t[..., 0], 99))\n",
    "clim_phase = (np.percentile(recon_t[..., 1], 70), np.percentile(recon_t[..., 1], 99.99))\n",
    "\n",
    "def init():\n",
    "    frames.append(axes[0, 0].imshow(recon_t[0,margin:-margin,margin:-margin,0], cmap='gray', clim=clim_, interpolation='None'))\n",
    "    frames.append(axes[1, 0].imshow(recon_t[0,margin:-margin,margin:-margin,1], cmap='gray', clim=clim_phase, interpolation='None'))\n",
    "    frames.append(axes[0, 1].imshow(abs_baseline[margin:-margin, margin:-margin], cmap='gray',clim=clim_, interpolation='None'))\n",
    "    frames.append(axes[1, 1].imshow(phase_baseline[margin:-margin, margin:-margin], cmap='gray', clim=clim_phase, interpolation='None'))\n",
    "    \n",
    "    axes[0,0].set_title('neural space-time model', fontsize=14)\n",
    "    axes[0,1].set_title('conventional reconstruction', fontsize=14)\n",
    "    axes[0,0].text(-0., 0.5, 'amplitude',\n",
    "        horizontalalignment='right',\n",
    "        verticalalignment='center',\n",
    "        rotation='vertical',\n",
    "        transform=axes[0,0].transAxes, fontsize=14)\n",
    "    axes[1,0].text(-0., 0.5, 'phase',\n",
    "        horizontalalignment='right',\n",
    "        verticalalignment='center',\n",
    "        rotation='vertical',\n",
    "        transform=axes[1,0].transAxes, fontsize=14)\n",
    "\n",
    "    f.tight_layout()\n",
    "    \n",
    "    axes[0,0].set_xlim([65, 765])\n",
    "\n",
    "    # text\n",
    "    text.append(axes[0,0].text(105.5, 55.6, f'frame {0}', color='black', fontsize=14, ))\n",
    "\n",
    "    # color bar\n",
    "    f.colorbar(frames[0], ax=axes[0], location='right', anchor=(-0.3, 0.5), shrink=0.5)\n",
    "    cbar_phase = f.colorbar(frames[1], ax=axes[1], location='right', anchor=(-0.3, 0.5), shrink=0.5, ticks=[0, 1, 2, 3, 4])\n",
    "    \n",
    "    [[ax.axis('off') for ax in axe] for axe in axes]\n",
    "\n",
    "init()\n",
    "def updateFrameVideo(i):\n",
    "    text[0].set_text('frame {:0.2f}'.format(frame_number_interp[i]))\n",
    "    frames[0].set_data(recon_t_dense[i,margin:-margin,margin:-margin,0])\n",
    "    frames[1].set_data(recon_t_dense[i,margin:-margin,margin:-margin,1])\n",
    "\n",
    "    frames[2].set_data(abs_baseline[margin:-margin, margin:-margin])\n",
    "    frames[3].set_data(phase_baseline[margin:-margin, margin:-margin])\n",
    "\n",
    "interact(updateFrameVideo, i=IntSlider(min=0, max=99, step=1, value=0))"
   ]
  },
  {
   "cell_type": "markdown",
   "id": "da4873f0",
   "metadata": {},
   "source": [
    "## Reference"
   ]
  },
  {
   "cell_type": "raw",
   "id": "2bf73c59",
   "metadata": {
    "vscode": {
     "languageId": "raw"
    }
   },
   "source": [
    "@article{cao2024neural,\n",
    "  title={Neural space-time model for dynamic scene recovery in multi-shot computational imaging systems},\n",
    "  author={Cao, Ruiming and Divekar, Nikita and Nu{\\~n}ez, James and Upadhyayula, Srigokul and Waller, Laura},\n",
    "  journal={bioRxiv},\n",
    "  pages={2024--01},\n",
    "  year={2024},\n",
    "  publisher={Cold Spring Harbor Laboratory}\n",
    "}"
   ]
  }
 ],
 "metadata": {
  "kernelspec": {
   "display_name": "Python 3",
   "language": "python",
   "name": "python3"
  },
  "language_info": {
   "codemirror_mode": {
    "name": "ipython",
    "version": 3
   },
   "file_extension": ".py",
   "mimetype": "text/x-python",
   "name": "python",
   "nbconvert_exporter": "python",
   "pygments_lexer": "ipython3",
   "version": "3.9.19"
  }
 },
 "nbformat": 4,
 "nbformat_minor": 5
}
